{
 "cells": [
  {
   "cell_type": "markdown",
   "metadata": {},
   "source": [
    "# Atividade 7 até 12"
   ]
  },
  {
   "cell_type": "markdown",
   "metadata": {},
   "source": [
    "## Importando bibliotecas e chaves necessárias"
   ]
  },
  {
   "cell_type": "code",
   "execution_count": 53,
   "metadata": {},
   "outputs": [],
   "source": [
    "import pandas as pd\n",
    "from matplotlib import pyplot as plt\n",
    "import numpy as np\n",
    "import seaborn as sns\n",
    "import transformers\n",
    "import torch\n",
    "from dotenv import load_dotenv\n",
    "import os\n",
    "import pathlib\n",
    "import textwrap\n",
    "import yaml\n",
    "import json\n",
    "\n",
    "import google.generativeai as genai\n",
    "\n",
    "from IPython.display import display\n",
    "from IPython.display import Markdown\n",
    "\n",
    "def to_markdown(text):\n",
    "  text = text.replace('•', '  *')\n",
    "  return Markdown(textwrap.indent(text, '> ', predicate=lambda _: True))\n",
    "\n",
    "load_dotenv('.env')\n",
    "\n",
    "genai.configure(api_key=os.environ[\"GEMINI_KEY\"])\n",
    "model = genai.GenerativeModel(\"gemini-1.5-flash\")"
   ]
  },
  {
   "cell_type": "markdown",
   "metadata": {},
   "source": [
    "## Atividade 7: Resumo de Notícia Utilizando Exemplos em Prompts\n",
    "\n",
    "Usando a API Gemini, crie um notebook que utilize prompts para resumir uma notícia (escolha da página principal de um portal de notícias e copie no notebook). O prompt deve solicitar um resumo dessa notícia usando o princípio de Exemplos para guiar a resposta do LLM. Teste o código e avalie a qualidade do resumo gerado. "
   ]
  },
  {
   "cell_type": "code",
   "execution_count": 17,
   "metadata": {},
   "outputs": [],
   "source": [
    "noticia = \"\"\"\n",
    "O Cruzeiro acertou a contratação de Gabigol. O jogador anunciou sua saída do Flamengo depois do título da Copa do Brasil, neste domingo, com vitória por 1 a 0 sobre o Atlético-MG, na Arena MRV.\n",
    "A diretoria do Cruzeiro trata o atacante como o principal investimento em termos salariais para a próxima temporada e ofereceu ao atleta um contrato de quatro anos, ainda com um pagamento de luvas ao atacante do Flamengo.\n",
    "Ainda não há assinatura de acordo entre Cruzeiro e Gabigol, mas todas as bases estão desenhadas para a oficialização. O clube mineiro luta por uma vaga na próxima Conmebol Libertadores e tem a decisão na Copa Sul-Americana, dia 23, contra o Racing, no Paraguai.\n",
    "Em declaração oficial, o CEO da Raposa, Alexandre Mattos, despistou sobre o acerto com o atacante, mas disse ser um \"motivo de satisfação\" ter Gabigol ligado ao clube.\n",
    "\n",
    "- Nós não vamos confirmar nenhuma movimentação no mercado de transferências neste momento, porque o Cruzeiro está totalmente focado em cumprir os objetivos desta reta final de temporada e temos completa confiança no nosso elenco atual. Mas, para nós, é motivo de satisfação poder acompanhar via imprensa sempre o nome de grandes atletas relacionados ao Cruzeiro, como foi o caso do Gabigol, Arias, entre outros. Isso mostra que todos que acompanham o futebol sabem que o nosso projeto é para sermos protagonistas em todos os campeonatos e que a credibilidade do clube está voltando graças ao nosso Presidente Pedro Lourenço. No momento certo, vamos falar diretamente com o nosso torcedor sobre o planejamento para o futebol do Cruzeiro das próximas temporadas.\n",
    "- Foi um ano conturbado para mim individualmente, (houve a) questão do doping, depois um treinador que não me respeitava como jogador. Durante esses momentos, nunca tentei externar isso de alguma forma, mas foi período horrível para mim - disse Gabigol.\n",
    "\n",
    "Gabriel Barbosa, de 28 anos, sempre foi um desejo do dono da SAF do Cruzeiro, Pedro Lourenço. Ele já teceu elogios ao atacante, na janela do meio do ano, mas informou que não teria condições de investir naquele momento.\n",
    "A posição é o ponto de atenção principal do Cruzeiro para a próxima temporada. Em diversos momentos, Pedro Lourenço disse que busca um homem-gol para o próximo ano. Na última semana, voltou a ressaltar este desejo.\n",
    "Gabigol é ídolo do Flamengo. Em seis anos, marcou 160 gols em 305 jogos pelo clube. Ganhou, entre outros títulos, duas Conmebol Libertadores (2019 e 2022), dois Brasileiros (2019 e 2020) e duas Copas do Brasil (2022 e 2024).\n",
    "\n",
    "O contrato do atacante com a equipe rubro-negra acaba em 31 de dezembro deste ano. Houve longa negociação para renovação do contrato, mas não houve acordo entre as partes.\n",
    "\"\"\""
   ]
  },
  {
   "cell_type": "code",
   "execution_count": 25,
   "metadata": {},
   "outputs": [
    {
     "name": "stdout",
     "output_type": "stream",
     "text": [
      "Gabigol, ídolo do Flamengo, acertou com o Cruzeiro e vai deixar o Mengão após a conquista da Copa do Brasil. A diretoria celeste vê o atacante como principal investimento para a próxima temporada e ofereceu um contrato de quatro anos. Essa notícia, porém, é um baque para a torcida rubro-negra que se despede de um dos maiores artilheiros da história do clube. \n",
      "\n"
     ]
    }
   ],
   "source": [
    "response_7 = model.generate_content(f\"\"\"\n",
    "                                  Como um especialista em futebol, faça o resumo da notícia para uma pessoa com pouco tempo para ler e que é torcedora do Flamengo. \n",
    "                                  Tente resumir em até 3 linhas.\n",
    "                                  A noticia é {noticia}\n",
    "                                  \"\"\")\n",
    "print(response_7.text)"
   ]
  },
  {
   "cell_type": "markdown",
   "metadata": {},
   "source": [
    "Dado o resultado acima, e a especificação que passei, o LLM funcionou muito bem focando em trazer um contexto para o torcedor flamenguista e deixar um resumo simples em até 3 linhas, para um público que não teria tanto tempo para parar e ler a notícia completa. \\\n",
    "Além disso, o código funcionou muito bem, sem dificuldades para rodar."
   ]
  },
  {
   "cell_type": "markdown",
   "metadata": {},
   "source": [
    "## Atividade 8:  Identificação de Entidades em Notícias com LLM\n",
    "Uma consultoria lhe contratou para automatizar a descoberta de pessoas mencionadas em notícias de jornal. Com base no Exercício 7, escolha 3 notícias e monte uma aplicação com um prompt para o LLM identificar menções a diferentes entidades em cada notícia (como pessoas, órgãos públicos, empresas…). Implemente um notebook para testar o código usando a API do Gemini. Descreva o prompt, seus resultados e avalie se a resposta do modelo atende às expectativas da consultoria."
   ]
  },
  {
   "cell_type": "code",
   "execution_count": 22,
   "metadata": {},
   "outputs": [],
   "source": [
    "noticia_1 = \"\"\"\n",
    "Cruzeiro acerta com Gabigol, que deixará o Flamengo\n",
    "Campeão da Copa do Brasil, atacante assinará contrato de quatro anos com o clube mineiro\n",
    "Por Janir Júnior, Gabriel Duarte e Pedro Rocha — Rio de Janeiro e Belo Horizonte\n",
    "\n",
    "10/11/2024 18h17  Atualizado há 23 minutos\n",
    "\n",
    "\"Não vou ficar no Flamengo\", revela Gabigol após conquista da Copa do Brasil\n",
    "\n",
    "O Cruzeiro acertou a contratação de Gabigol. O jogador anunciou sua saída do Flamengo depois do título da Copa do Brasil, neste domingo, com vitória por 1 a 0 sobre o Atlético-MG, na Arena MRV.\n",
    "\n",
    "A diretoria do Cruzeiro trata o atacante como o principal investimento em termos salariais para a próxima temporada e ofereceu ao atleta um contrato de quatro anos, ainda com um pagamento de luvas ao atacante do Flamengo.\n",
    "\n",
    "Ainda não há assinatura de acordo entre Cruzeiro e Gabigol, mas todas as bases estão desenhadas para a oficialização. O clube mineiro luta por uma vaga na próxima Conmebol Libertadores e tem a decisão na Copa Sul-Americana, dia 23, contra o Racing, no Paraguai.\n",
    "\n",
    "\n",
    "Em declaração oficial, o CEO da Raposa, Alexandre Mattos, despistou sobre o acerto com o atacante, mas disse ser um \"motivo de satisfação\" ter Gabigol ligado ao clube.\n",
    "\n",
    "- Nós não vamos confirmar nenhuma movimentação no mercado de transferências neste momento, porque o Cruzeiro está totalmente focado em cumprir os objetivos desta reta final de temporada e temos completa confiança no nosso elenco atual. Mas, para nós, é motivo de satisfação poder acompanhar via imprensa sempre o nome de grandes atletas relacionados ao Cruzeiro, como foi o caso do Gabigol, Arias, entre outros. Isso mostra que todos que acompanham o futebol sabem que o nosso projeto é para sermos protagonistas em todos os campeonatos e que a credibilidade do clube está voltando graças ao nosso Presidente Pedro Lourenço. No momento certo, vamos falar diretamente com o nosso torcedor sobre o planejamento para o futebol do Cruzeiro das próximas temporadas.\n",
    "\n",
    "Gabigol comemora o título da Copa do Brasil — Foto: Cris Mattos/Reuters\n",
    "Gabigol comemora o título da Copa do Brasil — Foto: Cris Mattos/Reuters\n",
    "\n",
    "\n",
    "- Foi um ano conturbado para mim individualmente, (houve a) questão do doping, depois um treinador que não me respeitava como jogador. Durante esses momentos, nunca tentei externar isso de alguma forma, mas foi período horrível para mim - disse Gabigol.\n",
    "\n",
    "Gabriel Barbosa, de 28 anos, sempre foi um desejo do dono da SAF do Cruzeiro, Pedro Lourenço. Ele já teceu elogios ao atacante, na janela do meio do ano, mas informou que não teria condições de investir naquele momento.\n",
    "\n",
    "\"Fica, Gabigol!\": torcida do Flamengo grita o nome do jogador após título\n",
    "\n",
    "A posição é o ponto de atenção principal do Cruzeiro para a próxima temporada. Em diversos momentos, Pedro Lourenço disse que busca um homem-gol para o próximo ano. Na última semana, voltou a ressaltar este desejo.\n",
    "\n",
    "\n",
    "Gabigol é ídolo do Flamengo. Em seis anos, marcou 160 gols em 305 jogos pelo clube. Ganhou, entre outros títulos, duas Conmebol Libertadores (2019 e 2022), dois Brasileiros (2019 e 2020) e duas Copas do Brasil (2022 e 2024).\n",
    "\n",
    "O contrato do atacante com a equipe rubro-negra acaba em 31 de dezembro deste ano. Houve longa negociação para renovação do contrato, mas não houve acordo entre as partes.\n",
    "\"\"\""
   ]
  },
  {
   "cell_type": "code",
   "execution_count": 23,
   "metadata": {},
   "outputs": [],
   "source": [
    "noticia_2 = \"\"\"\n",
    "Grêmio terá mudança na dupla de zaga contra o Juventude\n",
    "Jemerson recebeu o terceiro cartão amarelo contra o Palmeiras e terá de cumprir suspensão\n",
    "Por Redação do ge — Porto Alegre\n",
    "\n",
    "09/11/2024 14h42  Atualizado há um dia\n",
    "\n",
    "O técnico Renato Portaluppi terá de mudar novamente a dupla de zaga do Grêmio no próximo compromisso no Campeonato Brasileiro, contra o Juventude. Na derrota para o Palmeiras, Jemerson levou o terceiro cartão amarelo e terá de cumprir suspensão. Gustavo Martins está recuperado de lesão e deve ser o substituto.\n",
    "\n",
    "Aos 25 min do 1º tempo - cartão amarelo de Jemerson do Grêmio contra o Palmeiras\n",
    "\n",
    "Depois da derrota em São Paulo, o Tricolor só volta a campo no dia 20, depois da pausa para a data Fifa. Até lá, a comissão técnica gremista tem a missão de deixar Gustavo Martins pronto para entrar em campo.\n",
    "\n",
    "O jovem zagueiro não atua desde o dia 4 de outubro, quando saiu no primeiro tempo da vitória por 3 a 1 sobre o Fortaleza, na Arena, por uma lesão de grau 2b no bíceps femoral da coxa esquerda.\n",
    "\n",
    "Ao longo da última semana, o jogador participou dos trabalhos no CT Luiz Carvalho e foi liberado do ponto de vista clínico. Porém, Renato optou preservar Gustavo para o jogo contra o Juventude pelo de fato da dupla de zaga titular ter entrado em campo contra o Palmeiras pendurada.\n",
    "\n",
    "As outras opções do treinador para a posição são Natã, Geromel e Rodrigo Caio. Nesta semana, Kannemann foi submetido a uma cirurgia no quadril direito e só volta a atuar em 2025.\n",
    "\n",
    "A delegação do Grêmio retornou de São Paulo na manhã deste sábado. O grupo de jogadores recebeu três dias de folga e se reapresenta no CT Luiz Carvalho, em Porto Alegre, na terça-feira. Serão nove dias de preparação até o duelo contra o Juventude.\n",
    "\"\"\""
   ]
  },
  {
   "cell_type": "code",
   "execution_count": 24,
   "metadata": {},
   "outputs": [],
   "source": [
    "noticia_3 = \"\"\"\n",
    "Crise no Real Madrid é exemplo de como é difícil encaixar time de craques\n",
    "Vitória sobre o Osasuna não diminuiu as críticas ao trabalho de Ancelotti e o início ruim na temporada, com maus resultados na Liga dos Campeões e crise interna\n",
    "\n",
    "10/11/2024 11h29  Atualizado há 9 horas\n",
    "\n",
    "Real Madrid 4 x 0 Osasuna | Gols | 13ª rodada | La Liga\n",
    "\n",
    "Nem a vitória de 4 a 0 sobre o Osasuna, com hat-trick de Vinícius Júnior, foi capaz de acalmar o início conturbado de temporada do Real Madrid. Éder Militão deixou o gramado por conta de uma grave lesão no joelho e Rodrygo se lesionou ainda no primeiro tempo.\n",
    "\n",
    "São ainda mais problemas para uma temporada que esteve longe de começar bem. Carlo Ancelotti sofre para encaixar Mbappé no time e vê o Barcelona aumentar a liderança no Campeonato Espanhol enquanto o Real patina na Liga dos Campeões: são duas derrotas em quatro rodadas até aqui, para o Lille e o Milan.\n",
    "\n",
    "\n",
    "Vini Jr. marca três gols, e Real Madrid vence Osasuna — Foto: GettyImages\n",
    "Vini Jr. marca três gols, e Real Madrid vence Osasuna — Foto: GettyImages\n",
    "\n",
    "Pode parecer estranho um time que tem Kylian Mbappé, Vinícius Júnior e Rodrygo no ataque sofrer. Ainda mais com Camavinga, Modric e Bellingham no meio. O motivo é simples: o jogo não é individual. Não basta escalar os melhores e deixar que resolvam. Até o craque precisa de uma engrenagem para fazer o time funcionar.\n",
    "\n",
    "\n",
    "Os problemas do Real estão na engrenagem, não na escalação.\n",
    "\n",
    "\n",
    "A chegada de Mbappé (e Endrick) obrigou Ancelotti a sacrificar a base do time que venceu a última Liga dos Campeões. Ele manteve o 4-4-2 de sempre com Mbappé e Vini no ataque. No meio-campo, os problemas: Bellingham continua como meia avançado, como gosta de jogar, e obriga Rodrygo a ficar fora do time para Valverde fechar melhor o lado.\n",
    "\n",
    "Só que esse ajuste não é o suficiente. O Real vem defendendo mal na temporada. Os adversários não encontram resistência para sair tocando, uma vez que a pressão de Mbappé e Vini não é tão forte. Quando a bola chega no meio, Tchouaméni ou Modric ficam sobrecarregados e tudo \"estoura\" na defesa.\n",
    "\n",
    "Veja a imagem abaixo: o meio do Real sobe, dá espaço e a bola chega ao ataque.\n",
    "\n",
    "Real Madrid joga num 4-4-2 que ainda não encaixou na temporada — Foto: Reprodução\n",
    "Real Madrid joga num 4-4-2 que ainda não encaixou na temporada — Foto: Reprodução\n",
    "\n",
    "\n",
    "Construção das jogadas é o principal problema\n",
    "Além de defender mal, o Real ataca mal. Muito mal. Com a aposentadoria de Kroos, o time perdeu o camisa 5 que pensava e dava qualidade ao jogo lá atrás. Ancelotti aposta na titularidade de Modric, que vinha jogando nas últimas temporadas como meia mais avançado.\n",
    "\n",
    "O resultado é que a bola sai lá de trás quadrada: quando Bellingham não busca o passe lá atrás ou Modric não encontra uma solução, o time aposta nas ligações diretas. São muitas, sempre buscando o que há de mais potente no time: a correria para o pelotão de frente. Boa parte dos (muitos) gols perdidos de Mbappé vem da situação abaixo: ele só recebe no espaço, para correr, nunca em reais condições de caprichar.\n",
    "\n",
    "Real Madrid abusa das ligações diretas: falta um camisa 5 — Foto: Reprodução\n",
    "Real Madrid abusa das ligações diretas: falta um camisa 5 — Foto: Reprodução\n",
    "\n",
    "\n",
    "A pergunta que fica é: como encaixar um time repleto de bons jogadores, comprovadamente vencedores, mas que não conseguem jogar bem juntos?\n",
    "\n",
    "Futebol é e sempre será coletivo. Logo, a resposta está na engrenagem. O encaixe do Real passa pela adaptação de diversos jogadores, incluindo os mais craques. Vini Júnior, que merecia a Bola de Ouro pela temporada incrível que fez, mostrou que não é impossível um craque mudar. De ponta, virou centroavante e fez gol na final da Liga dos Campeões.\n",
    "\n",
    "É o exemplo para Bellingham, Tchouaméni, Camavinga e até Mbappé. Todos jovens, com potencial de fazerem mais de uma só função. O Real precisa de uma circulação maior de bola no meio. De movimentações mais rápidas, sempre sem a bola, para que a bola seja tocada por dentro e chegue nos atacantes com qualidade.\n",
    "\n",
    "Dorival Júnior chama de \"trabalho sujo\" o que Bellingham faz abaixo: sai lá do lado, recebe o passe e toca para o lado. Não dá manchete, não resulta em gol. Mas faz o time funcionar como um todo.\n",
    "\n",
    "\n",
    "Bellingham deve ajustar posicionamento para virar mais meia — Foto: Reprodução\n",
    "Bellingham deve ajustar posicionamento para virar mais meia — Foto: Reprodução\n",
    "\n",
    "Não é a primeira vez que um time assim dá as caras no futebol. Aquele Flamengo com Romário, Sávio e Edmundo será sempre lembrado. O PSG de Messi, Neymar e Mbappé e seu fracasso retumbante em tudo o que disputou é outro. No Real, sempre houve um Valverde ou Guti que fazia os Galáticos conseguirem se entender.\n",
    "\n",
    "Resta a Ancelotti quebrar a cabeça para encaixar um time, o que o Real ainda não foi no 2º semestre de 2024.\n",
    "\"\"\""
   ]
  },
  {
   "cell_type": "code",
   "execution_count": 32,
   "metadata": {},
   "outputs": [
    {
     "name": "stdout",
     "output_type": "stream",
     "text": [
      "## Pessoas Presentes nas Notícias:\n",
      "\n",
      "**Notícia 1:**\n",
      "\n",
      "* **Autores:** Janir Júnior, Gabriel Duarte, Pedro Rocha\n",
      "* **Personagens:** Gabigol, Alexandre Mattos, Pedro Lourenço\n",
      "* **Fotógrafo:** Cris Mattos/Reuters\n",
      "\n",
      "**Notícia 2:**\n",
      "\n",
      "* **Autor:** Redação do ge\n",
      "* **Personagens:** Renato Portaluppi, Jemerson, Gustavo Martins, Natã, Geromel, Rodrigo Caio, Kannemann\n",
      "* **Não há fotógrafos mencionados.**\n",
      "\n",
      "**Notícia 3:**\n",
      "\n",
      "* **Autor:** Não especificado, provavelmente Redação do ge\n",
      "* **Personagens:** Carlo Ancelotti, Vinícius Júnior, Éder Militão, Rodrygo, Kylian Mbappé, Camavinga, Modric, Bellingham, Tchouaméni, Kroos, Valverde, Guti, Dorival Júnior, Messi, Neymar, Edmundo\n",
      "* **Fotógrafo:** GettyImages\n",
      "* **Outros:** Não há menção a fotógrafos, mas a imagem \"Vini Jr. marca três gols, e Real Madrid vence Osasuna\" é creditada a GettyImages.\n",
      "\n",
      "**Observações:**\n",
      "\n",
      "* A primeira notícia indica que o autor da imagem é Cris Mattos, da agência Reuters.\n",
      "* A segunda notícia não menciona fotógrafos.\n",
      "* A terceira notícia menciona a GettyImages como fonte da imagem \"Vini Jr. marca três gols, e Real Madrid vence Osasuna\", mas não menciona o fotógrafo específico.\n",
      "\n",
      "**Considerações Adicionais:**\n",
      "\n",
      "* É importante notar que nem todos os nomes mencionados são necessariamente pessoas que estiveram fisicamente presentes nos eventos relatados.\n",
      "* Algumas pessoas, como Dorival Júnior, são mencionados como referência a um treinador que fez comentários sobre a situação.\n",
      "* A lista de personagens inclui não apenas nomes próprios, mas também funções (como treinador, fotógrafo, autor) para melhor identificar os envolvidos nas notícias. \n",
      "\n"
     ]
    }
   ],
   "source": [
    "response_8 = model.generate_content(f\"\"\"\n",
    "                                  Identifique em cada notícia as pessoas presentes dentro da notícia (como pessoas, fotógrafos, jogadores...), seguindo o exemplo abaixo extraído da {noticia_1}:\n",
    "                                  ###\n",
    "                                  Notícia 1\n",
    "\n",
    "                                  Autor: Janir Júnior, Gabriel Duarte e Pedro Rocha\n",
    "                                  Personagens: Gabigol, Alexandre Mattos, Pedro Lourenço\n",
    "                                  Fotografo: Cris Mattos/Reuters\n",
    "                                  ###\n",
    "                                  Pense que uma consultoria o contratou para realizar esssa operação.\n",
    "                                  As notícias serão: {noticia_1}, {noticia_2} e {noticia_3}\n",
    "                                  \"\"\")\n",
    "\n",
    "print(response_8.text)"
   ]
  },
  {
   "cell_type": "markdown",
   "metadata": {},
   "source": [
    "Fiquei satisfeito com o resultado retornardo pelo LLM. Com os exemplos que passei, ele buscou muito bem o que eu havia solicitado. \\\n",
    "Em alguns pontos, o site não continha dados suficientes para ser preenchido, então ele deixou informado que não haviam os dados solicitados. \\\n",
    "Não passei isso no exemplo, mas o fato de eu ter espeficiado apenas personagens, fotógrafos e autor, ele desconsiderou a possiblidade de criar novos campos. Na notícia 3, ele criou um campo de \"Outros\", mas apenas esse teve essa nova implementação."
   ]
  },
  {
   "cell_type": "markdown",
   "metadata": {},
   "source": [
    "## Atividade 9: Cálculo de Tokens em Texto Longo com API Gemini\n",
    "\n",
    "Implemente um notebook que use a API Gemini para calcular a quantidade de tokens necessários para processar um texto de 5.000 palavras. Baseie-se no modelo de tokenização utilizado por Gemini e explique como a quantidade de tokens influencia o custo e o desempenho da interação com LLMs em textos longos."
   ]
  },
  {
   "cell_type": "code",
   "execution_count": 36,
   "metadata": {},
   "outputs": [],
   "source": [
    "texto_5k_palavras = \"\"\"\n",
    "A UEFA Champions League, anteriormente conhecida como Copa dos Campeões Europeus, representa o ápice do futebol de clubes no continente europeu e, por consequência, no mundo. Desde sua criação em 1955, esta competição tem sido o palco das mais memoráveis histórias do futebol, reunindo os melhores clubes, jogadores e técnicos em busca da tão cobiçada \"orelhuda\", como é carinhosamente chamado o troféu.\n",
    "\n",
    "O Real Madrid, indiscutivelmente, é o maior campeão da história da competição, com impressionantes 14 títulos. A dinastia merengue começou logo nos primeiros anos do torneio, quando conquistou as cinco primeiras edições (1956-1960), estabelecendo uma hegemonia que seria praticamente impossível de ser igualada por qualquer outro clube.\n",
    "\n",
    "A gênese da competição remonta ao período pós-Segunda Guerra Mundial, quando a Europa buscava se reconstruir não apenas economicamente, mas também culturalmente. O futebol, como elemento agregador e pacificador, teve papel fundamental neste processo. A ideia de criar um torneio que reunisse os campeões nacionais de cada país surgiu através do jornal francês L'Équipe, mais especificamente de seu editor Gabriel Hanot.\n",
    "\n",
    "O primeiro torneio, realizado na temporada 1955/56, contou com 16 equipes participantes, sendo que algumas foram convidadas sem serem necessariamente campeãs de seus países. O Real Madrid venceu a primeira edição ao derrotar o Stade de Reims na final por 4-3, iniciando ali sua lendária história na competição.\n",
    "\n",
    "A década de 1960 viu o surgimento de outros gigantes europeus. O Benfica de Eusébio conquistou dois títulos consecutivos (1961 e 1962), enquanto o Milan de Gianni Rivera e o Inter de Milão de Helenio Herrera também deixaram suas marcas. O Celtic se tornou o primeiro clube britânico a conquistar o título em 1967, com um time formado inteiramente por jogadores nascidos num raio de 50 quilômetros de Glasgow.\n",
    "\n",
    "Os anos 1970 foram marcados pelo domínio do Ajax e do Bayern de Munique. O clube holandês, liderado por Johan Cruyff e praticando o \"Futebol Total\", venceu três vezes consecutivas (1971-1973). Logo em seguida, o Bayern, com Franz Beckenbauer como principal estrela, também conquistou três títulos seguidos (1974-1976).\n",
    "\n",
    "A década de 1980 trouxe novos protagonistas. O Liverpool consolidou sua força com quatro conquistas (1977, 1978, 1981 e 1984), enquanto o Nottingham Forest de Brian Clough surpreendeu a todos com dois títulos consecutivos (1979 e 1980). O final desta década viu o surgimento do Milan de Arrigo Sacchi, que revolucionou o futebol tático e conquistou duas taças (1989 e 1990).\n",
    "\n",
    "Em 1992, a competição passou por uma reformulação significativa, mudando seu nome para UEFA Champions League. O novo formato incluiu uma fase de grupos antes do mata-mata, aumentando significativamente o número de jogos e, consequentemente, as receitas dos clubes participantes.\n",
    "\n",
    "O Ajax de 1995, com jovens talentos como Clarence Seedorf e Patrick Kluivert, mostrou que ainda era possível vencer com times formados principalmente nas categorias de base. O Borussia Dortmund surpreendeu em 1997, vencendo a favorita Juventus na final.\n",
    "\n",
    "O Manchester United protagonizou um dos momentos mais dramáticos da história da competição em 1999, quando virou o jogo contra o Bayern de Munique nos acréscimos da final, com dois gols nos últimos três minutos, conquistando uma tríplice coroa histórica.\n",
    "\n",
    "Os anos 2000 começaram com o domínio espanhol. Real Madrid conquistou sua oitava e nona Champions (2000 e 2002), enquanto o Barcelona iniciava sua ascensão como potência do futebol europeu. O Milan manteve sua tradição vencendo em 2003 e 2007, embora tenha sofrido uma histórica derrota para o Liverpool na final de 2005, quando liderava por 3-0 no primeiro tempo e acabou perdendo nos pênaltis.\n",
    "\n",
    "O Barcelona de Pep Guardiola revolucionou o futebol entre 2009 e 2011, conquistando dois títulos com um estilo de jogo baseado na posse de bola e na pressão alta. Lionel Messi emergiu como o grande protagonista desta era, formando com Xavi e Iniesta um dos meios-campos mais talentosos da história.\n",
    "\n",
    "A década de 2010 foi marcada pelo retorno triunfal do Real Madrid. O clube conquistou quatro títulos em cinco anos (2014, 2016, 2017 e 2018), com Cristiano Ronaldo como principal estrela. A \"La Décima\", conquistada em 2014, foi especialmente significativa, pois o clube esperava 12 anos para conquistar seu décimo título.\n",
    "\n",
    "O Bayern de Munique manteve sua tradição vencendo em 2013 e 2020, com o último título sendo conquistado em um formato especial devido à pandemia de COVID-19, com jogos únicos em sede neutra. O Liverpool voltou ao topo em 2019, sob o comando de Jürgen Klopp, conquistando seu sexto título.\n",
    "\n",
    "Em termos de estatísticas, após o Real Madrid com seus 14 títulos, o Milan aparece como segundo maior vencedor com 7 conquistas, seguido por Liverpool e Bayern de Munique com 6 cada. Barcelona e Ajax completam o top 6 com 5 títulos cada.\n",
    "\n",
    "A competição também é palco de recordes individuais impressionantes. Cristiano Ronaldo é o maior artilheiro da história com 140 gols, seguido por Lionel Messi com 129. Francisco Gento, lendário jogador do Real Madrid, é o recordista de títulos como jogador, com 6 conquistas.\n",
    "\n",
    "A Champions League também é conhecida por suas tradições icônicas. O hino da competição, composto por Tony Britten em 1992, tornou-se uma das músicas mais reconhecíveis do esporte mundial. O troféu, com suas características \"orelhas\", é um dos mais distintivos do futebol.\n",
    "\n",
    "O formato atual da competição envolve 32 equipes na fase de grupos, divididas em 8 grupos de 4 times cada. Os dois primeiros de cada grupo avançam para as oitavas de final, quando começa a fase eliminatória. As finais são eventos grandiosos, geralmente realizados em estádios neutros previamente escolhidos.\n",
    "\n",
    "A competição também teve papel fundamental na evolução tática do futebol. Diferentes escolas e filosofias de jogo se encontram, proporcionando evoluções significativas na forma como o esporte é jogado. Do \"catenaccio\" italiano ao \"futebol total\" holandês, da \"tiki-taka\" espanhola ao \"gegenpressing\" alemão, a Champions League tem sido um laboratório de inovações táticas.\n",
    "\n",
    "O aspecto financeiro da competição também merece destaque. Os prêmios distribuídos pela UEFA aumentaram significativamente ao longo dos anos, tornando a Champions League uma fonte crucial de receitas para os clubes. Isso, por sua vez, influencia diretamente na capacidade dos times de contratar e manter grandes jogadores.\n",
    "\n",
    "A competição também tem sido palco de grandes reviravoltas e momentos dramáticos. A \"Remontada\" do Barcelona contra o PSG em 2017, quando o time espanhol reverteu uma derrota por 4-0 com uma vitória por 6-1 no jogo de volta, é um exemplo clássico. Ou a final de 2012, quando o Chelsea, contra todas as probabilidades, venceu o Bayern de Munique no próprio Allianz Arena.\n",
    "\n",
    "Os goleiros também escreveram capítulos importantes na história da Champions. Lev Yashin, Dino Zoff, Peter Schmeichel, Oliver Kahn, Iker Casillas e Manuel Neuer são alguns dos nomes que se tornaram lendas defendendo suas equipes nas partidas mais importantes.\n",
    "\n",
    "A competição também serviu como vitrine para grandes técnicos. Sir Alex Ferguson, Arrigo Sacchi, Johan Cruyff, Carlo Ancelotti, José Mourinho e Pep Guardiola são alguns dos treinadores que deixaram suas marcas na história do torneio, cada um com sua filosofia particular de jogo.\n",
    "\n",
    "As transmissões televisivas da Champions League se tornaram eventos globais, atingindo audiências bilionárias. A final é regularmente um dos eventos esportivos mais assistidos do mundo, superando inclusive muitas partidas de Copa do Mundo.\n",
    "\n",
    "A competição também teve impacto significativo na cultura do futebol. Os confrontos entre grandes clubes criaram rivalidades históricas, como Real Madrid x Bayern de Munique, Barcelona x Chelsea, ou Milan x Liverpool. Estas partidas transcendem o aspecto esportivo e se tornam verdadeiros choques de culturas e tradições futebolísticas.\n",
    "\n",
    "O desenvolvimento da Champions League também reflete as mudanças no futebol europeu como um todo. A implementação do Fair Play Financeiro, as mudanças nos formatos de competição, a introdução do VAR e outras inovações tecnológicas mostram como o torneio se mantém na vanguarda do desenvolvimento do esporte.\n",
    "\n",
    "Os estádios que receberam finais da Champions League formam uma lista impressionante de templos do futebol: Wembley, San Siro, Bernabéu, Camp Nou, Olímpico de Roma, entre outros. Cada um destes palcos contribuiu para criar momentos inesquecíveis na história da competição.\n",
    "\n",
    "A Champions League também teve papel fundamental no desenvolvimento do futebol feminino. A UEFA Women's Champions League, criada em 2001, segue os passos de sua contraparte masculina e tem crescido significativamente em prestígio e visibilidade.\n",
    "\n",
    "O futuro da competição continua em evolução. Discussões sobre novos formatos, número de participantes e distribuição de recursos financeiros mostram que a Champions League continua se adaptando às mudanças no cenário do futebol mundial.\n",
    "\n",
    "A importância da Champions League para o futebol mundial é inestimável. Mais do que uma competição de clubes, ela representa a excelência do futebol, onde os melhores times, jogadores e técnicos se encontram para criar espetáculos memoráveis que transcendem gerações.\n",
    "\n",
    "As histórias de sucesso e fracasso, os gols históricos, as defesas milagrosas, as táticas inovadoras e as emoções intensas continuam a fazer da UEFA Champions League a competição de clubes mais prestigiada do planeta. Seu legado, construído ao longo de mais de seis décadas, permanece como um testemunho da grandeza do futebol como esporte e fenômeno cultural.\n",
    "\n",
    "À medida que o futebol continua a evoluir, a Champions League mantém seu papel como a competição que define a excelência no esporte. Seus próximos capítulos certamente continuarão a adicionar novas páginas gloriosas à rica história do futebol mundial.\n",
    "\"\"\""
   ]
  },
  {
   "cell_type": "code",
   "execution_count": 38,
   "metadata": {},
   "outputs": [
    {
     "name": "stdout",
     "output_type": "stream",
     "text": [
      "## Quantidade de Tokens para o Texto da Champions League:\n",
      "\n",
      "O texto sobre a UEFA Champions League possui aproximadamente **5.000 palavras**. Para estimar a quantidade de tokens, podemos usar a regra de que **uma palavra corresponde a 1,5 tokens**.\n",
      "\n",
      "Portanto, o texto possui aproximadamente: 5.000 palavras * 1,5 tokens/palavra = **7.500 tokens**.\n",
      "\n",
      "**É importante lembrar que essa estimativa pode variar dependendo do modelo de tokenização utilizado.** O Gemini, por exemplo, possui um modelo próprio de tokenização, que pode resultar em uma contagem de tokens diferente.\n",
      "\n",
      "## Impacto da Quantidade de Tokens no Custo e Desempenho:\n",
      "\n",
      "A quantidade de tokens influencia diretamente o custo e o desempenho da interação com LLMs em textos longos:\n",
      "\n",
      "**Custo:**\n",
      "\n",
      "* **Modelos de LLMs geralmente cobram por token processado.** Quanto maior a quantidade de tokens, maior será o custo para processar o texto.\n",
      "* O custo de processar 7.500 tokens pode ser significativamente mais alto do que processar um texto menor.\n",
      "\n",
      "**Desempenho:**\n",
      "\n",
      "* **LLMs têm uma capacidade limitada de processar grandes quantidades de tokens.** Acima de um certo limite, o desempenho do modelo pode ser afetado, resultando em:\n",
      "    * **Tempo de resposta mais lento:** Leva mais tempo para o LLM processar textos longos.\n",
      "    * **Precisão reduzida:** O LLM pode ter dificuldade em entender o contexto completo do texto e gerar respostas imprecisas.\n",
      "    * **Limitação de memória:** O LLM pode não ser capaz de armazenar toda a informação de textos muito longos, perdendo contexto e informações importantes.\n",
      "\n",
      "**Estratégias para lidar com textos longos:**\n",
      "\n",
      "* **Dividir o texto em partes menores:** Processar o texto em partes menores pode reduzir o custo e melhorar o desempenho do LLM.\n",
      "* **Utilizar modelos de LLMs especializados em textos longos:** Alguns modelos de LLMs são projetados para lidar com grandes quantidades de tokens, como o GPT-3.\n",
      "* **Utilizar técnicas de resumo e extração de informações:** Resumir o texto antes de processá-lo pode reduzir a quantidade de tokens e melhorar o desempenho do LLM.\n",
      "\n",
      "**Em resumo:**\n",
      "\n",
      "A quantidade de tokens é um fator crucial no custo e desempenho da interação com LLMs em textos longos. É importante considerar a quantidade de tokens para otimizar o custo e garantir o bom desempenho do LLM.\n",
      "\n",
      "**Para uma estimativa mais precisa, é recomendado utilizar a API do Gemini para calcular o número exato de tokens do seu texto.**\n",
      "\n"
     ]
    }
   ],
   "source": [
    "response_9 = model.generate_content(f\"\"\" \n",
    "    Calcule a quantidade de tokens necessários para processar o texto de 5.000 palavras, que é o {texto_5k_palavras}. Baseie-se no modelo de tokenização do Gemini.\n",
    "    Além disso, explique como a quantidade de tokens influencia o custo e o desempenho da interação com LLMs em textos longos\n",
    "\"\"\")\n",
    "\n",
    "print(response_9.text)"
   ]
  },
  {
   "cell_type": "markdown",
   "metadata": {},
   "source": [
    "O cálculo de tokens aproximados que o Gemini utilizaria para esse texto é de ~7.500 tokens! \\\n",
    "Ao solicitar a explicação de como a quantidade de tokens influencia o custo e o desempenho, pelo o que foi aprendido em aula até agora o texto está muito de acordo. \\\n",
    "Na descrição sobre o custo, o LLM trouxe de uma forma extremamente simples o custo que pode ser gerado sobre 7.500 tokens e um texto menor, visto que o LLM usa a quantidade de tokens para poder calcular seu custo. \\\n",
    "Na aba de desempenho, trouxe os contrapontos de ter um texto longo, como a precisão por conta do contexto muito grande, limitação de memória por ter muitos parâmetros e tempo de resposta aumentado por conta de demora para conseguir processar todas esses dados."
   ]
  },
  {
   "cell_type": "markdown",
   "metadata": {},
   "source": [
    "## Atividade 11 Estruturação de Prompts com Arquivo YAML\n",
    "\n",
    "Crie um arquivo YAML que represente a estrutura:\n",
    "{‘'roteiro’: {‘atenas’: ‘prompt’, ‘roma’: ‘prompt’}},\n",
    "\n",
    "\n",
    "onde você deve definir dois prompts: um para listar 3 pontos turísticos de Roma, o número anual de visitantes e uma breve descrição de cada um, e outro para fazer o mesmo com Atenas. Em seguida, crie um notebook que leia esse arquivo YAML e execute os prompts usando o Gemini (uma execução por cidade no roteiro). Qual foi o resultado? Os pontos turísticos são relevantes e suas descrições são precisas? "
   ]
  },
  {
   "cell_type": "code",
   "execution_count": 43,
   "metadata": {},
   "outputs": [
    {
     "data": {
      "text/plain": [
       "{'roteiro': {'atenas': 'Liste 3 pontos turÃ\\xadsticos famosos de Atenas, incluindo o nÃºmero anual de visitantes e uma breve descriÃ§Ã£o de cada um.\\n',\n",
       "  'roma': 'Liste 3 pontos turÃ\\xadsticos famosos de Roma, incluindo o nÃºmero anual de visitantes e uma breve descriÃ§Ã£o de cada um.'}}"
      ]
     },
     "execution_count": 43,
     "metadata": {},
     "output_type": "execute_result"
    }
   ],
   "source": [
    "with open('atividade_11.yaml') as stream:\n",
    "    try:\n",
    "        config = yaml.safe_load(stream)\n",
    "    except yaml.YAMLError as exc:\n",
    "        print(exc)\n",
    "\n",
    "config"
   ]
  },
  {
   "cell_type": "markdown",
   "metadata": {},
   "source": [
    "Gerando output para Atenas"
   ]
  },
  {
   "cell_type": "code",
   "execution_count": 45,
   "metadata": {},
   "outputs": [
    {
     "name": "stdout",
     "output_type": "stream",
     "text": [
      "Aqui estão 3 pontos turísticos famosos em Atenas, incluindo o número anual de visitantes e uma breve descrição de cada um:\n",
      "\n",
      "* **A Acrópole:** É um dos sítios arqueológicos mais importantes do mundo, com um número estimado de 3 milhões de visitantes por ano. A Acrópole é uma colina que domina a cidade de Atenas, no topo da qual se erguem os restos de vários templos e outras estruturas, incluindo o Parthenon, o Erechtheion e o Propileu.\n",
      "\n",
      "* **O Museu da Acrópole:** Este museu moderno, localizado ao pé da Acrópole, abriga artefatos e esculturas descobertos no sítio arqueológico. Recebe mais de 1 milhão de visitantes por ano. O museu exibe a arte e a história da Acrópole, desde a época clássica até os tempos modernos.\n",
      "\n",
      "* **O Fórum Romano:** Este antigo mercado e centro cívico romano fica no coração da cidade de Atenas e recebe mais de 500 mil visitantes por ano. O Fórum Romano contém os restos de edifícios romanos, incluindo a Biblioteca de Adriano e o Templo de Zeus Olímpico, e oferece uma visão fascinante sobre a história romana da cidade.\n",
      "\n"
     ]
    }
   ],
   "source": [
    "response_atenas = model.generate_content(config['roteiro']['atenas'])\n",
    "\n",
    "print(response_atenas.text)"
   ]
  },
  {
   "cell_type": "markdown",
   "metadata": {},
   "source": [
    "Gerando output para Roma"
   ]
  },
  {
   "cell_type": "code",
   "execution_count": 46,
   "metadata": {},
   "outputs": [
    {
     "name": "stdout",
     "output_type": "stream",
     "text": [
      "Aqui estão 3 pontos turísticos famosos de Roma, incluindo o número anual de visitantes e uma breve descrição de cada um:\n",
      "\n",
      "1. **Coliseu:**\n",
      "    * **Visitantes anuais:** Cerca de 7,4 milhões\n",
      "    * **Descrição:** O Coliseu é um anfiteatro oval gigante construído no século I d.C. para abrigar jogos de gladiadores e outros eventos públicos. É uma das estruturas romanas mais icônicas e visitada, com uma história e um significado cultural inigualáveis.\n",
      "\n",
      "2. **Fórum Romano:**\n",
      "    * **Visitantes anuais:** Cerca de 4,5 milhões\n",
      "    * **Descrição:** O Fórum Romano é um complexo de ruínas antigas que inclui templos, basílicas e mercados que foram o coração do Império Romano. É um testemunho impressionante da grandeza da antiga Roma e oferece uma visão fascinante da vida e da cultura romana.\n",
      "\n",
      "3. **Museus do Vaticano e Capela Sistina:**\n",
      "    * **Visitantes anuais:** Cerca de 6 milhões\n",
      "    * **Descrição:** Os Museus do Vaticano são um dos maiores e mais importantes museus de arte do mundo, com uma vasta coleção de arte renascentista, escultura e artefatos. A Capela Sistina, famosa por seus afrescos de Michelangelo, é uma das atrações mais populares dos museus.\n",
      "\n"
     ]
    }
   ],
   "source": [
    "response_roma = model.generate_content(config['roteiro']['roma'])\n",
    "\n",
    "print(response_roma.text)"
   ]
  },
  {
   "cell_type": "markdown",
   "metadata": {},
   "source": [
    "Ambos os pontos retornados, tanto para Roma quanto para Atenas, são relevantes e tiveram suas descrições bem escritas, com exceção do \"fórum romano\" que não consegui identificar o que se refere. \\\n",
    "Em Roma, trouxe o principal ponto turístico que é o Coliseu, esse não poderia faltar. \\\n",
    "Em Atenas, trouxe a Acrópole, que também é o principal ponto turístico da cidade. \\\n",
    "Um ponto interessante é que, não padronizei o output esperado, ou seja, em cada uma das execuções, o método de resposta do prompt foi diferente."
   ]
  },
  {
   "cell_type": "markdown",
   "metadata": {},
   "source": [
    "## Atividade 12 Sistema de Envio de Emails com Dados Turísticos em JSON\n",
    "\n",
    "Queremos montar um sistema que envie emails com os pontos turísticos de cidades num roteiro de viagem. Com base no Exercício 11, altere o prompt para estruturar a saída em formato JSON, com descrições e número de visitantes. Crie um notebook que use a biblioteca pandas para converter esse JSON para dataframe e plot um único gráfico de barras horizontais com todos os pontos turísticos, destacando as cores das barras de acordo com a cidade do ponto turístico (Coliseu, em Roma deve ter uma cor diferente que Parthenon, em Atenas). Coloque as legendas no gráfico."
   ]
  },
  {
   "cell_type": "code",
   "execution_count": 57,
   "metadata": {},
   "outputs": [
    {
     "data": {
      "text/plain": [
       "{'roteiro': {'atenas_roma': 'Liste 3 pontos turÃ\\xadsticos famosos de Atenas e Roma, incluindo o nÃºmero anual de visitantes. Quero que o formato retornado seja um json. A quantidade anual de visitantes, jÃ¡ deve ser um inteiro, ou seja, nÃ£o me traga textos nessa \"coluna\"'}}"
      ]
     },
     "execution_count": 57,
     "metadata": {},
     "output_type": "execute_result"
    }
   ],
   "source": [
    "with open('atividade_12.yaml') as stream:\n",
    "    try:\n",
    "        config_12 = yaml.safe_load(stream)\n",
    "    except yaml.YAMLError as exc:\n",
    "        print(exc)\n",
    "\n",
    "config_12"
   ]
  },
  {
   "cell_type": "code",
   "execution_count": null,
   "metadata": {},
   "outputs": [
    {
     "name": "stdout",
     "output_type": "stream",
     "text": [
      "```json\n",
      "[\n",
      "  {\n",
      "    \"cidade\": \"Atenas\",\n",
      "    \"ponto_turistico\": \"Acropolis\",\n",
      "    \"visitantes_anuais\": 3000000\n",
      "  },\n",
      "  {\n",
      "    \"cidade\": \"Atenas\",\n",
      "    \"ponto_turistico\": \"Museu da Acropolis\",\n",
      "    \"visitantes_anuais\": 1500000\n",
      "  },\n",
      "  {\n",
      "    \"cidade\": \"Roma\",\n",
      "    \"ponto_turistico\": \"Coliseu\",\n",
      "    \"visitantes_anuais\": 7400000\n",
      "  }\n",
      "]\n",
      "```\n",
      "\n"
     ]
    }
   ],
   "source": [
    "response_12 = model.generate_content(config_12['roteiro']['atenas_roma'])\n",
    "\n",
    "print(response_12.text)"
   ]
  },
  {
   "cell_type": "code",
   "execution_count": 75,
   "metadata": {},
   "outputs": [],
   "source": [
    "data = response_12.text"
   ]
  },
  {
   "cell_type": "code",
   "execution_count": null,
   "metadata": {},
   "outputs": [
    {
     "data": {
      "text/html": [
       "<div>\n",
       "<style scoped>\n",
       "    .dataframe tbody tr th:only-of-type {\n",
       "        vertical-align: middle;\n",
       "    }\n",
       "\n",
       "    .dataframe tbody tr th {\n",
       "        vertical-align: top;\n",
       "    }\n",
       "\n",
       "    .dataframe thead th {\n",
       "        text-align: right;\n",
       "    }\n",
       "</style>\n",
       "<table border=\"1\" class=\"dataframe\">\n",
       "  <thead>\n",
       "    <tr style=\"text-align: right;\">\n",
       "      <th></th>\n",
       "      <th>cidade</th>\n",
       "      <th>ponto_turistico</th>\n",
       "      <th>visitantes_anuais</th>\n",
       "    </tr>\n",
       "  </thead>\n",
       "  <tbody>\n",
       "    <tr>\n",
       "      <th>0</th>\n",
       "      <td>Atenas</td>\n",
       "      <td>Acropolis</td>\n",
       "      <td>3000000</td>\n",
       "    </tr>\n",
       "    <tr>\n",
       "      <th>1</th>\n",
       "      <td>Atenas</td>\n",
       "      <td>Museu da Acropolis</td>\n",
       "      <td>1500000</td>\n",
       "    </tr>\n",
       "    <tr>\n",
       "      <th>2</th>\n",
       "      <td>Roma</td>\n",
       "      <td>Coliseu</td>\n",
       "      <td>7400000</td>\n",
       "    </tr>\n",
       "  </tbody>\n",
       "</table>\n",
       "</div>"
      ],
      "text/plain": [
       "   cidade     ponto_turistico  visitantes_anuais\n",
       "0  Atenas           Acropolis            3000000\n",
       "1  Atenas  Museu da Acropolis            1500000\n",
       "2    Roma             Coliseu            7400000"
      ]
     },
     "execution_count": 78,
     "metadata": {},
     "output_type": "execute_result"
    }
   ],
   "source": [
    "texto_json = data.replace('```json\\n', '').replace('\\n```\\n', '')\n",
    "\n",
    "dados = json.loads(texto_json)\n",
    "\n",
    "df = pd.DataFrame(dados)\n",
    "\n",
    "df"
   ]
  },
  {
   "cell_type": "code",
   "execution_count": 85,
   "metadata": {},
   "outputs": [
    {
     "data": {
      "image/png": "[encoded data removed]",
      "text/plain": [
       "<Figure size 1000x600 with 1 Axes>"
      ]
     },
     "metadata": {},
     "output_type": "display_data"
    }
   ],
   "source": [
    "plt.figure(figsize=(10, 6))\n",
    "\n",
    "plt.bar(df['ponto_turistico'], df['visitantes_anuais'])\n",
    "\n",
    "plt.title('Número de Visitantes Anuais por Ponto Turístico')\n",
    "plt.xlabel('Ponto Turístico')\n",
    "plt.ylabel('Número de Visitantes')\n",
    "plt.xticks(rotation=45, ha='right')\n",
    "\n",
    "for i, v in enumerate(df['visitantes_anuais']):\n",
    "    plt.text(i, v, f'{v:,}', ha='center', va='bottom')\n",
    "\n",
    "plt.tight_layout()\n",
    "plt.show()"
   ]
  }
 ],
 "metadata": {
  "kernelspec": {
   "display_name": "tp2",
   "language": "python",
   "name": "python3"
  },
  "language_info": {
   "codemirror_mode": {
    "name": "ipython",
    "version": 3
   },
   "file_extension": ".py",
   "mimetype": "text/x-python",
   "name": "python",
   "nbconvert_exporter": "python",
   "pygments_lexer": "ipython3",
   "version": "3.12.5"
  }
 },
 "nbformat": 4,
 "nbformat_minor": 2
}
